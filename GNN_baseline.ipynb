{
 "cells": [
  {
   "cell_type": "code",
   "execution_count": 1,
   "id": "0ad63db8",
   "metadata": {},
   "outputs": [],
   "source": [
    "import pandas as pd\n",
    "import numpy as np\n",
    "import matplotlib.pyplot as plt\n",
    "import seaborn as sns\n",
    "from rdkit import Chem, DataStructs\n",
    "from rdkit.Chem import PandasTools, AllChem\n",
    "from rdkit.Chem.rdmolops import GetAdjacencyMatrix\n",
    "from torch_geometric.data import Data\n",
    "import torch.nn.functional as F\n",
    "import torch.nn as nn\n",
    "from torch_geometric.nn import GCNConv, global_mean_pool\n",
    "from torch_geometric.data import DataLoader as GeometricDataLoader\n",
    "from sklearn.model_selection import train_test_split\n",
    "from sklearn.preprocessing import StandardScaler\n",
    "import torch"
   ]
  },
  {
   "cell_type": "code",
   "execution_count": 2,
   "id": "cf8705b4",
   "metadata": {},
   "outputs": [],
   "source": [
    "df = pd.read_excel('1400.xlsx')\n",
    "pretrain_data = pd.read_excel('35000.xlsx')"
   ]
  },
  {
   "cell_type": "code",
   "execution_count": 3,
   "id": "947f8348",
   "metadata": {},
   "outputs": [],
   "source": [
    "df = df.rename(columns = {'IC50, mmg/ml': \"IC50\"})\n",
    "df_smiles = df[['IC50', 'SMILES']]"
   ]
  },
  {
   "cell_type": "code",
   "execution_count": 4,
   "id": "1a898306",
   "metadata": {},
   "outputs": [
    {
     "data": {
      "text/html": [
       "<div>\n",
       "<style scoped>\n",
       "    .dataframe tbody tr th:only-of-type {\n",
       "        vertical-align: middle;\n",
       "    }\n",
       "\n",
       "    .dataframe tbody tr th {\n",
       "        vertical-align: top;\n",
       "    }\n",
       "\n",
       "    .dataframe thead th {\n",
       "        text-align: right;\n",
       "    }\n",
       "</style>\n",
       "<table border=\"1\" class=\"dataframe\">\n",
       "  <thead>\n",
       "    <tr style=\"text-align: right;\">\n",
       "      <th></th>\n",
       "      <th>IC50</th>\n",
       "      <th>SMILES</th>\n",
       "    </tr>\n",
       "  </thead>\n",
       "  <tbody>\n",
       "    <tr>\n",
       "      <th>0</th>\n",
       "      <td>2.7</td>\n",
       "      <td>OCC\\N=C(\\[C@]12C)C[C@@H](C1(C)C)CC2</td>\n",
       "    </tr>\n",
       "    <tr>\n",
       "      <th>1</th>\n",
       "      <td>0.7</td>\n",
       "      <td>OCC\\N=C(\\[C@]12C)C[C@@H](C1(C)C)CC2</td>\n",
       "    </tr>\n",
       "    <tr>\n",
       "      <th>2</th>\n",
       "      <td>9.9</td>\n",
       "      <td>CCN(CC)CC\\N=C(\\[C@@]12C)C[C@H](C1(C)C)CC2</td>\n",
       "    </tr>\n",
       "    <tr>\n",
       "      <th>3</th>\n",
       "      <td>8.3</td>\n",
       "      <td>CN(C)CC\\N=C(\\[C@@]12C)C[C@H](C1(C)C)CC2</td>\n",
       "    </tr>\n",
       "    <tr>\n",
       "      <th>4</th>\n",
       "      <td>39.4</td>\n",
       "      <td>CN(C)CC(=O)O[C@H]1C[C@H](CC2)C(C)(C)[C@@]12C</td>\n",
       "    </tr>\n",
       "  </tbody>\n",
       "</table>\n",
       "</div>"
      ],
      "text/plain": [
       "   IC50                                        SMILES\n",
       "0   2.7           OCC\\N=C(\\[C@]12C)C[C@@H](C1(C)C)CC2\n",
       "1   0.7           OCC\\N=C(\\[C@]12C)C[C@@H](C1(C)C)CC2\n",
       "2   9.9     CCN(CC)CC\\N=C(\\[C@@]12C)C[C@H](C1(C)C)CC2\n",
       "3   8.3       CN(C)CC\\N=C(\\[C@@]12C)C[C@H](C1(C)C)CC2\n",
       "4  39.4  CN(C)CC(=O)O[C@H]1C[C@H](CC2)C(C)(C)[C@@]12C"
      ]
     },
     "execution_count": 4,
     "metadata": {},
     "output_type": "execute_result"
    }
   ],
   "source": [
    "df_smiles.head(5)"
   ]
  },
  {
   "cell_type": "code",
   "execution_count": 5,
   "id": "bf2b1a2b",
   "metadata": {},
   "outputs": [],
   "source": [
    "pretrain_data = pretrain_data.drop(columns = ['Unnamed: 0', 'Title'])"
   ]
  },
  {
   "cell_type": "code",
   "execution_count": 6,
   "id": "4e588d78",
   "metadata": {},
   "outputs": [
    {
     "data": {
      "text/html": [
       "<div>\n",
       "<style scoped>\n",
       "    .dataframe tbody tr th:only-of-type {\n",
       "        vertical-align: middle;\n",
       "    }\n",
       "\n",
       "    .dataframe tbody tr th {\n",
       "        vertical-align: top;\n",
       "    }\n",
       "\n",
       "    .dataframe thead th {\n",
       "        text-align: right;\n",
       "    }\n",
       "</style>\n",
       "<table border=\"1\" class=\"dataframe\">\n",
       "  <thead>\n",
       "    <tr style=\"text-align: right;\">\n",
       "      <th></th>\n",
       "      <th>IC50</th>\n",
       "      <th>SMILES</th>\n",
       "    </tr>\n",
       "  </thead>\n",
       "  <tbody>\n",
       "    <tr>\n",
       "      <th>0</th>\n",
       "      <td>0.000015</td>\n",
       "      <td>[H]\\N=C(N)\\N[C@@H](C1)[C@@H](NC(=O)C)[C@@H](C=...</td>\n",
       "    </tr>\n",
       "    <tr>\n",
       "      <th>1</th>\n",
       "      <td>0.000016</td>\n",
       "      <td>O=C(O)C1=C[C@H](N)[C@@H](NC(=O)C)[C@@H](C1)COC...</td>\n",
       "    </tr>\n",
       "    <tr>\n",
       "      <th>2</th>\n",
       "      <td>0.000033</td>\n",
       "      <td>C=CC(=O)N[C@H]([C@H](C1)N)[C@@H](C=C1C([O-])=O...</td>\n",
       "    </tr>\n",
       "    <tr>\n",
       "      <th>3</th>\n",
       "      <td>0.000032</td>\n",
       "      <td>CC(=O)N[C@H]([C@H](C1)N)[C@@H](C=C1C([O-])=O)O...</td>\n",
       "    </tr>\n",
       "    <tr>\n",
       "      <th>4</th>\n",
       "      <td>0.000041</td>\n",
       "      <td>O=C(O)c1c(O)c(=O)cc([nH]1)-c(c2C)ccc(c2)-c3noc...</td>\n",
       "    </tr>\n",
       "  </tbody>\n",
       "</table>\n",
       "</div>"
      ],
      "text/plain": [
       "       IC50                                             SMILES\n",
       "0  0.000015  [H]\\N=C(N)\\N[C@@H](C1)[C@@H](NC(=O)C)[C@@H](C=...\n",
       "1  0.000016  O=C(O)C1=C[C@H](N)[C@@H](NC(=O)C)[C@@H](C1)COC...\n",
       "2  0.000033  C=CC(=O)N[C@H]([C@H](C1)N)[C@@H](C=C1C([O-])=O...\n",
       "3  0.000032  CC(=O)N[C@H]([C@H](C1)N)[C@@H](C=C1C([O-])=O)O...\n",
       "4  0.000041  O=C(O)c1c(O)c(=O)cc([nH]1)-c(c2C)ccc(c2)-c3noc..."
      ]
     },
     "execution_count": 6,
     "metadata": {},
     "output_type": "execute_result"
    }
   ],
   "source": [
    "pretrain_data.head(5)"
   ]
  },
  {
   "cell_type": "code",
   "execution_count": 7,
   "id": "1125b8d0",
   "metadata": {},
   "outputs": [],
   "source": [
    "def one_hot_encoding(x, permitted_list):\n",
    "    \"\"\"\n",
    "    Maps input elements x which are not in the permitted list to the last element\n",
    "    of the permitted list.\n",
    "    \"\"\"\n",
    "    if x not in permitted_list:\n",
    "        x = permitted_list[-1]\n",
    "    binary_encoding = [int(boolean_value) for boolean_value in list(map(lambda s: x == s, permitted_list))]\n",
    "    return binary_encoding"
   ]
  },
  {
   "cell_type": "code",
   "execution_count": 8,
   "id": "4554c3cd",
   "metadata": {},
   "outputs": [],
   "source": [
    "def get_atom_features(atom, \n",
    "                      use_chirality = True, \n",
    "                      hydrogens_implicit = True):\n",
    "    \"\"\"\n",
    "    Takes an RDKit atom object as input and gives a 1d-numpy array of atom features as output.\n",
    "    \"\"\"\n",
    "    # define list of permitted atoms\n",
    "    \n",
    "    permitted_list_of_atoms =  ['C','N','O','S','F','Si','P','Cl','Br','Mg','Na','Ca','Fe','As','Al','I', 'B','V','K','Tl','Yb','Sb','Sn','Ag','Pd','Co','Se','Ti','Zn', 'Li','Ge','Cu','Au','Ni','Cd','In','Mn','Zr','Cr','Pt','Hg','Pb','Unknown']\n",
    "    \n",
    "    if hydrogens_implicit == False:\n",
    "        permitted_list_of_atoms = ['H'] + permitted_list_of_atoms\n",
    "    \n",
    "    # compute atom features\n",
    "    \n",
    "    atom_type_enc = one_hot_encoding(str(atom.GetSymbol()), permitted_list_of_atoms)\n",
    "    \n",
    "    n_heavy_neighbors_enc = one_hot_encoding(int(atom.GetDegree()), [0, 1, 2, 3, 4, \"MoreThanFour\"])\n",
    "    \n",
    "    formal_charge_enc = one_hot_encoding(int(atom.GetFormalCharge()), [-3, -2, -1, 0, 1, 2, 3, \"Extreme\"])\n",
    "    \n",
    "    hybridisation_type_enc = one_hot_encoding(str(atom.GetHybridization()), [\"S\", \"SP\", \"SP2\", \"SP3\", \"SP3D\", \"SP3D2\", \"OTHER\"])\n",
    "    \n",
    "    is_in_a_ring_enc = [int(atom.IsInRing())]\n",
    "    \n",
    "    is_aromatic_enc = [int(atom.GetIsAromatic())]\n",
    "    \n",
    "    atomic_mass_scaled = [float((atom.GetMass() - 10.812)/116.092)]\n",
    "    \n",
    "    vdw_radius_scaled = [float((Chem.GetPeriodicTable().GetRvdw(atom.GetAtomicNum()) - 1.5)/0.6)]\n",
    "    \n",
    "    covalent_radius_scaled = [float((Chem.GetPeriodicTable().GetRcovalent(atom.GetAtomicNum()) - 0.64)/0.76)]\n",
    "    atom_feature_vector = atom_type_enc + n_heavy_neighbors_enc + formal_charge_enc + hybridisation_type_enc + is_in_a_ring_enc + is_aromatic_enc + atomic_mass_scaled + vdw_radius_scaled + covalent_radius_scaled\n",
    "                                    \n",
    "    if use_chirality == True:\n",
    "        chirality_type_enc = one_hot_encoding(str(atom.GetChiralTag()), [\"CHI_UNSPECIFIED\", \"CHI_TETRAHEDRAL_CW\", \"CHI_TETRAHEDRAL_CCW\", \"CHI_OTHER\"])\n",
    "        atom_feature_vector += chirality_type_enc\n",
    "    \n",
    "    if hydrogens_implicit == True:\n",
    "        n_hydrogens_enc = one_hot_encoding(int(atom.GetTotalNumHs()), [0, 1, 2, 3, 4, \"MoreThanFour\"])\n",
    "        atom_feature_vector += n_hydrogens_enc\n",
    "    return np.array(atom_feature_vector)"
   ]
  },
  {
   "cell_type": "code",
   "execution_count": 9,
   "id": "7fcbeff1",
   "metadata": {},
   "outputs": [],
   "source": [
    "def get_bond_features(bond, \n",
    "                      use_stereochemistry = True):\n",
    "    \"\"\"\n",
    "    Takes an RDKit bond object as input and gives a 1d-numpy array of bond features as output.\n",
    "    \"\"\"\n",
    "    permitted_list_of_bond_types = [Chem.rdchem.BondType.SINGLE, Chem.rdchem.BondType.DOUBLE, Chem.rdchem.BondType.TRIPLE, Chem.rdchem.BondType.AROMATIC]\n",
    "    bond_type_enc = one_hot_encoding(bond.GetBondType(), permitted_list_of_bond_types)\n",
    "    \n",
    "    bond_is_conj_enc = [int(bond.GetIsConjugated())]\n",
    "    \n",
    "    bond_is_in_ring_enc = [int(bond.IsInRing())]\n",
    "    \n",
    "    bond_feature_vector = bond_type_enc + bond_is_conj_enc + bond_is_in_ring_enc\n",
    "    \n",
    "    if use_stereochemistry == True:\n",
    "        stereo_type_enc = one_hot_encoding(str(bond.GetStereo()), [\"STEREOZ\", \"STEREOE\", \"STEREOANY\", \"STEREONONE\"])\n",
    "        bond_feature_vector += stereo_type_enc\n",
    "    return np.array(bond_feature_vector)"
   ]
  },
  {
   "cell_type": "code",
   "execution_count": 10,
   "id": "51ac85ee",
   "metadata": {},
   "outputs": [],
   "source": [
    "def create_pytorch_geometric_graph_data_list_from_smiles_and_labels(x_smiles, y):\n",
    "    \"\"\"\n",
    "    Inputs:\n",
    "    \n",
    "    x_smiles = [smiles_1, smiles_2, ....] ... a list of SMILES strings\n",
    "    y = [y_1, y_2, ...] ... a list of numerial labels for the SMILES strings (such as associated pKi values)\n",
    "    \n",
    "    Outputs:\n",
    "    \n",
    "    data_list = [G_1, G_2, ...] ... a list of torch_geometric.data.Data objects which represent labeled molecular graphs that can readily be used for machine learning\n",
    "    \n",
    "    \"\"\"\n",
    "    \n",
    "    data_list = []\n",
    "    \n",
    "    for (smiles, y_val) in zip(x_smiles, y):\n",
    "        \n",
    "        # convert SMILES to RDKit mol object\n",
    "        mol = Chem.MolFromSmiles(smiles)\n",
    "        # get feature dimensions\n",
    "        n_nodes = mol.GetNumAtoms()\n",
    "        n_edges = 2*mol.GetNumBonds()\n",
    "        unrelated_smiles = \"O=O\"\n",
    "        unrelated_mol = Chem.MolFromSmiles(unrelated_smiles)\n",
    "        n_node_features = len(get_atom_features(unrelated_mol.GetAtomWithIdx(0)))\n",
    "        n_edge_features = len(get_bond_features(unrelated_mol.GetBondBetweenAtoms(0,1)))\n",
    "        # construct node feature matrix X of shape (n_nodes, n_node_features)\n",
    "        X = np.zeros((n_nodes, n_node_features))\n",
    "        for atom in mol.GetAtoms():\n",
    "            X[atom.GetIdx(), :] = get_atom_features(atom)\n",
    "            \n",
    "        X = torch.tensor(X, dtype = torch.float)\n",
    "        \n",
    "        # construct edge index array E of shape (2, n_edges)\n",
    "        (rows, cols) = np.nonzero(GetAdjacencyMatrix(mol))\n",
    "        torch_rows = torch.from_numpy(rows.astype(np.int64)).to(torch.long)\n",
    "        torch_cols = torch.from_numpy(cols.astype(np.int64)).to(torch.long)\n",
    "        E = torch.stack([torch_rows, torch_cols], dim = 0)\n",
    "        \n",
    "        # construct edge feature array EF of shape (n_edges, n_edge_features)\n",
    "        EF = np.zeros((n_edges, n_edge_features))\n",
    "        \n",
    "        for (k, (i,j)) in enumerate(zip(rows, cols)):\n",
    "            \n",
    "            EF[k] = get_bond_features(mol.GetBondBetweenAtoms(int(i),int(j)))\n",
    "        \n",
    "        EF = torch.tensor(EF, dtype = torch.float)\n",
    "        \n",
    "        # construct label tensor\n",
    "        y_tensor = torch.tensor(np.array([y_val]), dtype = torch.float)\n",
    "        \n",
    "        # construct Pytorch Geometric data object and append to data list\n",
    "        data_list.append(Data(x = X, edge_index = E, edge_attr = EF, y = y_tensor))\n",
    "    return data_list"
   ]
  },
  {
   "cell_type": "code",
   "execution_count": 11,
   "id": "1325075a",
   "metadata": {},
   "outputs": [],
   "source": [
    "class GNNModel(torch.nn.Module):\n",
    "    def __init__(self, node_input_dim, edge_input_dim, hidden_dim, output_dim):\n",
    "        super(GNNModel, self).__init__()\n",
    "\n",
    "        self.conv1 = GCNConv(node_input_dim, hidden_dim)\n",
    "        self.conv2 = GCNConv(hidden_dim, hidden_dim)\n",
    "\n",
    "        self.fc1 = torch.nn.Linear(hidden_dim, hidden_dim//2)\n",
    "        self.fc2 = torch.nn.Linear(hidden_dim//2, output_dim)\n",
    "\n",
    "    def forward(self, data):\n",
    "        x, edge_index, edge_attr = data.x, data.edge_index, data.edge_attr\n",
    "\n",
    "        # GNN layers\n",
    "        x = self.conv1(x, edge_index)\n",
    "        x = F.relu(x)\n",
    "        x = self.conv2(x, edge_index)\n",
    "        x = F.relu(x)\n",
    "\n",
    "        x = global_mean_pool(x, data.batch)\n",
    "\n",
    "        x = self.fc1(x)\n",
    "        x = F.relu(x)\n",
    "        x = self.fc2(x)\n",
    "\n",
    "        return x"
   ]
  },
  {
   "cell_type": "code",
   "execution_count": 12,
   "id": "1dbcb263",
   "metadata": {},
   "outputs": [],
   "source": [
    "unrelated_smiles = \"O=O\"\n",
    "unrelated_mol = Chem.MolFromSmiles(unrelated_smiles)"
   ]
  },
  {
   "cell_type": "code",
   "execution_count": 13,
   "id": "11dc6166",
   "metadata": {},
   "outputs": [],
   "source": [
    "node_input_dim = len(get_atom_features(unrelated_mol.GetAtomWithIdx(0)))\n",
    "edge_input_dim = len(get_bond_features(unrelated_mol.GetBondBetweenAtoms(0,1)))\n",
    "hidden_dim = 64\n",
    "output_dim = 1\n",
    "gnn_model = GNNModel(node_input_dim, edge_input_dim, hidden_dim, output_dim)"
   ]
  },
  {
   "cell_type": "markdown",
   "id": "97bd119d",
   "metadata": {},
   "source": [
    "# Pretrain"
   ]
  },
  {
   "cell_type": "code",
   "execution_count": 14,
   "id": "43eb7ef9",
   "metadata": {},
   "outputs": [],
   "source": [
    "X = pretrain_data['SMILES'].tolist()\n",
    "y = pretrain_data['IC50'].tolist()"
   ]
  },
  {
   "cell_type": "code",
   "execution_count": 15,
   "id": "4f9503ca",
   "metadata": {},
   "outputs": [
    {
     "name": "stderr",
     "output_type": "stream",
     "text": [
      "[13:03:43] Conflicting single bond directions around double bond at index 55.\n",
      "[13:03:43]   BondStereo set to STEREONONE and single bond directions set to NONE.\n",
      "[13:06:10] Conflicting single bond directions around double bond at index 7.\n",
      "[13:06:10]   BondStereo set to STEREONONE and single bond directions set to NONE.\n"
     ]
    }
   ],
   "source": [
    "data_list = create_pytorch_geometric_graph_data_list_from_smiles_and_labels(X, y)\n",
    "train_data, val_data = train_test_split(data_list, test_size=0.2, random_state=42)"
   ]
  },
  {
   "cell_type": "code",
   "execution_count": 16,
   "id": "89e53fcb",
   "metadata": {},
   "outputs": [
    {
     "name": "stderr",
     "output_type": "stream",
     "text": [
      "/home/user/conda/envs/chem/lib/python3.9/site-packages/torch_geometric/deprecation.py:22: UserWarning: 'data.DataLoader' is deprecated, use 'loader.DataLoader' instead\n",
      "  warnings.warn(out)\n"
     ]
    }
   ],
   "source": [
    "train_loader = GeometricDataLoader(dataset=train_data, batch_size=2**7, shuffle=True)\n",
    "val_loader = GeometricDataLoader(dataset=val_data, batch_size=2**7)"
   ]
  },
  {
   "cell_type": "code",
   "execution_count": 17,
   "id": "3f7da85a",
   "metadata": {},
   "outputs": [],
   "source": [
    "loss_function = nn.MSELoss()"
   ]
  },
  {
   "cell_type": "code",
   "execution_count": 18,
   "id": "2b595982",
   "metadata": {},
   "outputs": [],
   "source": [
    "optimiser = torch.optim.Adam(gnn_model.parameters(), lr=3e-4)"
   ]
  },
  {
   "cell_type": "code",
   "execution_count": 19,
   "id": "c9d510cd",
   "metadata": {},
   "outputs": [
    {
     "name": "stderr",
     "output_type": "stream",
     "text": [
      "/tmp/ipykernel_1837866/2643477154.py:11: UserWarning: To copy construct from a tensor, it is recommended to use sourceTensor.clone().detach() or sourceTensor.clone().detach().requires_grad_(True), rather than torch.tensor(sourceTensor).\n",
      "  loss = loss_function(output[:, 0], torch.tensor(batch.y, dtype=torch.float32))\n",
      "/home/user/conda/envs/chem/lib/python3.9/site-packages/torch/autograd/__init__.py:251: UserWarning: CUDA initialization: The NVIDIA driver on your system is too old (found version 11010). Please update your GPU driver by downloading and installing a new version from the URL: http://www.nvidia.com/Download/index.aspx Alternatively, go to: https://pytorch.org to install a PyTorch version that has been compiled with your version of the CUDA driver. (Triggered internally at ../c10/cuda/CUDAFunctions.cpp:108.)\n",
      "  Variable._execution_engine.run_backward(  # Calls into the C++ engine to run the backward pass\n",
      "/tmp/ipykernel_1837866/2643477154.py:28: UserWarning: To copy construct from a tensor, it is recommended to use sourceTensor.clone().detach() or sourceTensor.clone().detach().requires_grad_(True), rather than torch.tensor(sourceTensor).\n",
      "  loss = loss_function(output[:, 0], torch.tensor(batch.y, dtype=torch.float32))\n"
     ]
    },
    {
     "name": "stdout",
     "output_type": "stream",
     "text": [
      "Epoch 001 | Train Loss: 2431.5472 | Val Loss: 2168.3543\n",
      "Epoch 002 | Train Loss: 2396.2504 | Val Loss: 2163.7180\n",
      "Epoch 003 | Train Loss: 2391.9881 | Val Loss: 2158.4320\n",
      "Epoch 004 | Train Loss: 2387.1147 | Val Loss: 2152.7579\n",
      "Epoch 005 | Train Loss: 2381.6555 | Val Loss: 2148.3458\n",
      "Epoch 006 | Train Loss: 2376.7235 | Val Loss: 2141.3035\n",
      "Epoch 007 | Train Loss: 2372.1219 | Val Loss: 2135.4293\n",
      "Epoch 008 | Train Loss: 2367.9184 | Val Loss: 2131.5489\n",
      "Epoch 009 | Train Loss: 2364.5694 | Val Loss: 2127.5906\n",
      "Epoch 010 | Train Loss: 2361.8879 | Val Loss: 2123.9529\n",
      "Epoch 011 | Train Loss: 2359.2993 | Val Loss: 2121.6086\n",
      "Epoch 012 | Train Loss: 2357.1592 | Val Loss: 2120.3977\n",
      "Epoch 013 | Train Loss: 2355.3271 | Val Loss: 2118.0592\n",
      "Epoch 014 | Train Loss: 2354.4677 | Val Loss: 2117.5068\n",
      "Epoch 015 | Train Loss: 2353.6344 | Val Loss: 2115.8208\n",
      "Epoch 016 | Train Loss: 2351.8666 | Val Loss: 2114.5749\n",
      "Epoch 017 | Train Loss: 2350.4138 | Val Loss: 2113.6140\n",
      "Epoch 018 | Train Loss: 2349.0644 | Val Loss: 2112.4418\n",
      "Epoch 019 | Train Loss: 2348.3095 | Val Loss: 2112.3107\n",
      "Epoch 020 | Train Loss: 2347.3760 | Val Loss: 2110.8588\n",
      "Epoch 021 | Train Loss: 2346.2393 | Val Loss: 2110.6076\n",
      "Epoch 022 | Train Loss: 2344.8264 | Val Loss: 2109.9128\n",
      "Epoch 023 | Train Loss: 2343.4536 | Val Loss: 2110.2490\n",
      "Epoch 024 | Train Loss: 2344.1595 | Val Loss: 2108.1021\n",
      "Epoch 025 | Train Loss: 2343.1731 | Val Loss: 2108.0154\n",
      "Epoch 026 | Train Loss: 2342.2243 | Val Loss: 2108.0998\n",
      "Epoch 027 | Train Loss: 2341.1663 | Val Loss: 2107.5707\n",
      "Epoch 028 | Train Loss: 2340.7265 | Val Loss: 2108.5573\n",
      "Epoch 029 | Train Loss: 2340.6792 | Val Loss: 2107.1806\n",
      "Epoch 030 | Train Loss: 2339.7384 | Val Loss: 2107.2045\n",
      "Epoch 031 | Train Loss: 2339.1204 | Val Loss: 2108.0320\n",
      "Epoch 032 | Train Loss: 2338.4611 | Val Loss: 2107.5250\n",
      "Epoch 033 | Train Loss: 2338.0067 | Val Loss: 2106.6730\n",
      "Epoch 034 | Train Loss: 2337.8922 | Val Loss: 2108.1071\n",
      "Epoch 035 | Train Loss: 2337.4161 | Val Loss: 2106.7742\n"
     ]
    }
   ],
   "source": [
    "train_losses = []\n",
    "val_losses = []\n",
    "\n",
    "for epoch in range(35):\n",
    "    gnn_model.train()\n",
    "\n",
    "    train_loss = 0.0\n",
    "    for batch in train_loader:\n",
    "        output = gnn_model(batch)\n",
    "        loss = loss_function(output[:, 0], torch.tensor(batch.y, dtype=torch.float32))\n",
    "\n",
    "        optimiser.zero_grad()\n",
    "        loss.backward()\n",
    "        optimiser.step()\n",
    "\n",
    "        train_loss += loss.item() * batch.num_graphs\n",
    "\n",
    "    train_loss /= len(train_data)\n",
    "    train_losses.append(train_loss)\n",
    "    \n",
    "    gnn_model.eval()\n",
    "    val_loss = 0.0\n",
    "    with torch.no_grad():\n",
    "        for batch in val_loader:\n",
    "            output = gnn_model(batch)\n",
    "            loss = loss_function(output[:, 0], torch.tensor(batch.y, dtype=torch.float32))\n",
    "            val_loss += loss.item() * batch.num_graphs\n",
    "\n",
    "    val_loss /= len(val_data)\n",
    "    val_losses.append(val_loss)\n",
    "\n",
    "    print(f\"Epoch {epoch+1:03d} | Train Loss: {train_loss:.4f} | Val Loss: {val_loss:.4f}\")"
   ]
  },
  {
   "cell_type": "code",
   "execution_count": 21,
   "id": "1aa656e5",
   "metadata": {},
   "outputs": [
    {
     "data": {
      "image/png": "[encoded data removed]",
      "text/plain": [
       "<Figure size 1000x600 with 1 Axes>"
      ]
     },
     "metadata": {},
     "output_type": "display_data"
    }
   ],
   "source": [
    "plt.figure(figsize=(10, 6))\n",
    "plt.plot(train_losses, label='Train Loss', color='blue')\n",
    "plt.plot(val_losses, label='Validation Loss', color='red')\n",
    "plt.xlabel('Epochs')\n",
    "plt.ylabel('Loss')\n",
    "plt.title('Training and Validation Losses')\n",
    "plt.legend()\n",
    "plt.grid(True)\n",
    "plt.show()"
   ]
  },
  {
   "cell_type": "code",
   "execution_count": 22,
   "id": "20626a4a",
   "metadata": {},
   "outputs": [],
   "source": [
    "torch.save(gnn_model.state_dict(), 'gnn_pretrain.pth')"
   ]
  },
  {
   "cell_type": "markdown",
   "id": "3109227e",
   "metadata": {},
   "source": [
    "# Using Pretrain"
   ]
  },
  {
   "cell_type": "code",
   "execution_count": 33,
   "id": "6a966d29",
   "metadata": {},
   "outputs": [],
   "source": [
    "use_pretrain = True"
   ]
  },
  {
   "cell_type": "code",
   "execution_count": 34,
   "id": "efb31f0c",
   "metadata": {},
   "outputs": [],
   "source": [
    "gnn_model = GNNModel(node_input_dim, edge_input_dim, hidden_dim, output_dim)\n",
    "if use_pretrain:\n",
    "    gnn_model.load_state_dict(torch.load('gnn_pretrain.pth'))"
   ]
  },
  {
   "cell_type": "code",
   "execution_count": 35,
   "id": "75f62b82",
   "metadata": {},
   "outputs": [],
   "source": [
    "x_smiles = df['SMILES'].tolist()\n",
    "y = df['IC50'].tolist()"
   ]
  },
  {
   "cell_type": "code",
   "execution_count": 36,
   "id": "9a5b6c13",
   "metadata": {},
   "outputs": [
    {
     "name": "stderr",
     "output_type": "stream",
     "text": [
      "[13:12:53] Conflicting single bond directions around double bond at index 55.\n",
      "[13:12:53]   BondStereo set to STEREONONE and single bond directions set to NONE.\n"
     ]
    }
   ],
   "source": [
    "data_list = create_pytorch_geometric_graph_data_list_from_smiles_and_labels(x_smiles, y)\n",
    "train_data, val_data = train_test_split(data_list, test_size=0.2, random_state=42)"
   ]
  },
  {
   "cell_type": "code",
   "execution_count": 37,
   "id": "71b08c63",
   "metadata": {},
   "outputs": [],
   "source": [
    "train_loader = GeometricDataLoader(dataset=train_data, batch_size=2**7, shuffle=True)\n",
    "val_loader = GeometricDataLoader(dataset=val_data, batch_size=2**7)"
   ]
  },
  {
   "cell_type": "code",
   "execution_count": 38,
   "id": "edac6d37",
   "metadata": {},
   "outputs": [],
   "source": [
    "loss_function = nn.MSELoss()"
   ]
  },
  {
   "cell_type": "code",
   "execution_count": 39,
   "id": "dd595519",
   "metadata": {},
   "outputs": [],
   "source": [
    "optimiser = torch.optim.Adam(gnn_model.parameters(), lr=1e-4)"
   ]
  },
  {
   "cell_type": "code",
   "execution_count": 40,
   "id": "343bb21b",
   "metadata": {},
   "outputs": [
    {
     "name": "stderr",
     "output_type": "stream",
     "text": [
      "/tmp/ipykernel_1837866/2643477154.py:11: UserWarning: To copy construct from a tensor, it is recommended to use sourceTensor.clone().detach() or sourceTensor.clone().detach().requires_grad_(True), rather than torch.tensor(sourceTensor).\n",
      "  loss = loss_function(output[:, 0], torch.tensor(batch.y, dtype=torch.float32))\n",
      "/tmp/ipykernel_1837866/2643477154.py:28: UserWarning: To copy construct from a tensor, it is recommended to use sourceTensor.clone().detach() or sourceTensor.clone().detach().requires_grad_(True), rather than torch.tensor(sourceTensor).\n",
      "  loss = loss_function(output[:, 0], torch.tensor(batch.y, dtype=torch.float32))\n"
     ]
    },
    {
     "name": "stdout",
     "output_type": "stream",
     "text": [
      "Epoch 001 | Train Loss: 10833.8298 | Val Loss: 5335.2857\n",
      "Epoch 002 | Train Loss: 10760.7755 | Val Loss: 5289.2640\n",
      "Epoch 003 | Train Loss: 10683.4803 | Val Loss: 5249.2656\n",
      "Epoch 004 | Train Loss: 10616.3355 | Val Loss: 5207.0181\n",
      "Epoch 005 | Train Loss: 10544.9333 | Val Loss: 5167.8196\n",
      "Epoch 006 | Train Loss: 10475.9737 | Val Loss: 5131.5139\n",
      "Epoch 007 | Train Loss: 10411.4010 | Val Loss: 5100.2380\n",
      "Epoch 008 | Train Loss: 10353.9280 | Val Loss: 5071.6939\n",
      "Epoch 009 | Train Loss: 10299.0760 | Val Loss: 5048.6557\n",
      "Epoch 010 | Train Loss: 10249.2282 | Val Loss: 5030.2244\n",
      "Epoch 011 | Train Loss: 10207.7990 | Val Loss: 5013.7236\n",
      "Epoch 012 | Train Loss: 10163.7344 | Val Loss: 5000.9189\n",
      "Epoch 013 | Train Loss: 10121.0301 | Val Loss: 4990.9792\n",
      "Epoch 014 | Train Loss: 10084.3638 | Val Loss: 4983.4473\n",
      "Epoch 015 | Train Loss: 10053.4891 | Val Loss: 4978.9158\n",
      "Epoch 016 | Train Loss: 10023.3637 | Val Loss: 4975.9566\n",
      "Epoch 017 | Train Loss: 9998.8739 | Val Loss: 4974.0349\n",
      "Epoch 018 | Train Loss: 9976.0133 | Val Loss: 4972.9729\n",
      "Epoch 019 | Train Loss: 9955.5367 | Val Loss: 4972.6843\n",
      "Epoch 020 | Train Loss: 9935.6813 | Val Loss: 4973.8740\n",
      "Epoch 021 | Train Loss: 9917.3536 | Val Loss: 4978.4770\n",
      "Epoch 022 | Train Loss: 9896.8788 | Val Loss: 4977.0647\n",
      "Epoch 023 | Train Loss: 9884.0778 | Val Loss: 4973.9503\n",
      "Epoch 024 | Train Loss: 9870.8276 | Val Loss: 4970.0346\n",
      "Epoch 025 | Train Loss: 9857.7963 | Val Loss: 4969.1126\n",
      "Epoch 026 | Train Loss: 9845.4348 | Val Loss: 4974.4332\n",
      "Epoch 027 | Train Loss: 9829.7819 | Val Loss: 4970.9408\n",
      "Epoch 028 | Train Loss: 9817.3476 | Val Loss: 4971.0865\n",
      "Epoch 029 | Train Loss: 9806.4594 | Val Loss: 4973.8949\n",
      "Epoch 030 | Train Loss: 9793.8032 | Val Loss: 4970.5349\n",
      "Epoch 031 | Train Loss: 9784.2610 | Val Loss: 4966.8744\n",
      "Epoch 032 | Train Loss: 9774.0909 | Val Loss: 4960.2696\n",
      "Epoch 033 | Train Loss: 9764.6442 | Val Loss: 4954.3391\n",
      "Epoch 034 | Train Loss: 9755.3745 | Val Loss: 4953.3028\n",
      "Epoch 035 | Train Loss: 9745.8989 | Val Loss: 4950.8930\n"
     ]
    }
   ],
   "source": [
    "train_losses = []\n",
    "val_losses = []\n",
    "\n",
    "for epoch in range(35):\n",
    "    gnn_model.train()\n",
    "\n",
    "    # Training\n",
    "    train_loss = 0.0\n",
    "    for batch in train_loader:\n",
    "        output = gnn_model(batch)\n",
    "        loss = loss_function(output[:, 0], torch.tensor(batch.y, dtype=torch.float32))\n",
    "\n",
    "        optimiser.zero_grad()\n",
    "        loss.backward()\n",
    "        optimiser.step()\n",
    "\n",
    "        train_loss += loss.item() * batch.num_graphs\n",
    "\n",
    "    train_loss /= len(train_data)\n",
    "    train_losses.append(train_loss)\n",
    "    \n",
    "    # Validation\n",
    "    gnn_model.eval()\n",
    "    val_loss = 0.0\n",
    "    with torch.no_grad():\n",
    "        for batch in val_loader:\n",
    "            output = gnn_model(batch)\n",
    "            loss = loss_function(output[:, 0], torch.tensor(batch.y, dtype=torch.float32))\n",
    "            val_loss += loss.item() * batch.num_graphs\n",
    "\n",
    "    val_loss /= len(val_data)\n",
    "    val_losses.append(val_loss)\n",
    "\n",
    "    # Logging\n",
    "    print(f\"Epoch {epoch+1:03d} | Train Loss: {train_loss:.4f} | Val Loss: {val_loss:.4f}\")"
   ]
  },
  {
   "cell_type": "code",
   "execution_count": 41,
   "id": "f98d2772",
   "metadata": {},
   "outputs": [
    {
     "data": {
      "image/png": "[encoded data removed]",
      "text/plain": [
       "<Figure size 1000x600 with 1 Axes>"
      ]
     },
     "metadata": {},
     "output_type": "display_data"
    }
   ],
   "source": [
    "plt.figure(figsize=(10, 6))\n",
    "plt.plot(train_losses, label='Train Loss', color='blue')\n",
    "plt.plot(val_losses, label='Validation Loss', color='red')\n",
    "plt.xlabel('Epochs')\n",
    "plt.ylabel('Loss')\n",
    "plt.title('Training and Validation Losses')\n",
    "plt.legend()\n",
    "plt.grid(True)\n",
    "plt.show()"
   ]
  },
  {
   "cell_type": "code",
   "execution_count": null,
   "id": "738f847e",
   "metadata": {},
   "outputs": [],
   "source": []
  }
 ],
 "metadata": {
  "kernelspec": {
   "display_name": "chem",
   "language": "python",
   "name": "chem"
  },
  "language_info": {
   "codemirror_mode": {
    "name": "ipython",
    "version": 3
   },
   "file_extension": ".py",
   "mimetype": "text/x-python",
   "name": "python",
   "nbconvert_exporter": "python",
   "pygments_lexer": "ipython3",
   "version": "3.9.18"
  }
 },
 "nbformat": 4,
 "nbformat_minor": 5
}
