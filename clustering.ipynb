{
 "cells": [
  {
   "cell_type": "code",
   "execution_count": 8,
   "id": "7ef86a82",
   "metadata": {},
   "outputs": [],
   "source": [
    "import pandas as pd\n",
    "import numpy as np\n",
    "import matplotlib.pyplot as plt\n",
    "import seaborn as sns\n",
    "from rdkit import Chem, DataStructs\n",
    "from rdkit.Chem import PandasTools, AllChem\n",
    "import umap\n",
    "from sklearn.cluster import DBSCAN"
   ]
  },
  {
   "cell_type": "code",
   "execution_count": 2,
   "id": "ca055921",
   "metadata": {},
   "outputs": [],
   "source": [
    "df = pd.read_excel('1400.xlsx')"
   ]
  },
  {
   "cell_type": "code",
   "execution_count": 3,
   "id": "4fcba53c",
   "metadata": {},
   "outputs": [
    {
     "data": {
      "text/html": [
       "<div>\n",
       "<style scoped>\n",
       "    .dataframe tbody tr th:only-of-type {\n",
       "        vertical-align: middle;\n",
       "    }\n",
       "\n",
       "    .dataframe tbody tr th {\n",
       "        vertical-align: top;\n",
       "    }\n",
       "\n",
       "    .dataframe thead th {\n",
       "        text-align: right;\n",
       "    }\n",
       "</style>\n",
       "<table border=\"1\" class=\"dataframe\">\n",
       "  <thead>\n",
       "    <tr style=\"text-align: right;\">\n",
       "      <th></th>\n",
       "      <th>Title</th>\n",
       "      <th>IC50, mmg/ml</th>\n",
       "      <th>CC50-MDCK, mmg/ml</th>\n",
       "      <th>SI</th>\n",
       "      <th>Molecular weight</th>\n",
       "      <th>Hydrogen bond acceptors</th>\n",
       "      <th>Hydrogen bond donors</th>\n",
       "      <th>Polar SA</th>\n",
       "      <th>SMILES</th>\n",
       "      <th>Pictures</th>\n",
       "    </tr>\n",
       "  </thead>\n",
       "  <tbody>\n",
       "    <tr>\n",
       "      <th>0</th>\n",
       "      <td>1007-Ya-213</td>\n",
       "      <td>2.7</td>\n",
       "      <td>500.0</td>\n",
       "      <td>185.185185</td>\n",
       "      <td>195.307</td>\n",
       "      <td>2</td>\n",
       "      <td>1</td>\n",
       "      <td>32.59</td>\n",
       "      <td>OCC\\N=C(\\[C@]12C)C[C@@H](C1(C)C)CC2</td>\n",
       "      <td>50.0</td>\n",
       "    </tr>\n",
       "    <tr>\n",
       "      <th>1</th>\n",
       "      <td>1007-Ya-213</td>\n",
       "      <td>0.7</td>\n",
       "      <td>447.0</td>\n",
       "      <td>638.571429</td>\n",
       "      <td>195.307</td>\n",
       "      <td>2</td>\n",
       "      <td>1</td>\n",
       "      <td>32.59</td>\n",
       "      <td>OCC\\N=C(\\[C@]12C)C[C@@H](C1(C)C)CC2</td>\n",
       "      <td>51.0</td>\n",
       "    </tr>\n",
       "    <tr>\n",
       "      <th>2</th>\n",
       "      <td>1008-Ya-187</td>\n",
       "      <td>9.9</td>\n",
       "      <td>144.0</td>\n",
       "      <td>14.545455</td>\n",
       "      <td>250.431</td>\n",
       "      <td>1</td>\n",
       "      <td>0</td>\n",
       "      <td>15.60</td>\n",
       "      <td>CCN(CC)CC\\N=C(\\[C@@]12C)C[C@H](C1(C)C)CC2</td>\n",
       "      <td>52.0</td>\n",
       "    </tr>\n",
       "    <tr>\n",
       "      <th>3</th>\n",
       "      <td>1009-As-106</td>\n",
       "      <td>8.3</td>\n",
       "      <td>500.0</td>\n",
       "      <td>60.240964</td>\n",
       "      <td>222.377</td>\n",
       "      <td>1</td>\n",
       "      <td>0</td>\n",
       "      <td>15.60</td>\n",
       "      <td>CN(C)CC\\N=C(\\[C@@]12C)C[C@H](C1(C)C)CC2</td>\n",
       "      <td>53.0</td>\n",
       "    </tr>\n",
       "    <tr>\n",
       "      <th>4</th>\n",
       "      <td>1010-Ya-208</td>\n",
       "      <td>39.4</td>\n",
       "      <td>143.0</td>\n",
       "      <td>3.629442</td>\n",
       "      <td>239.361</td>\n",
       "      <td>2</td>\n",
       "      <td>0</td>\n",
       "      <td>29.54</td>\n",
       "      <td>CN(C)CC(=O)O[C@H]1C[C@H](CC2)C(C)(C)[C@@]12C</td>\n",
       "      <td>54.0</td>\n",
       "    </tr>\n",
       "    <tr>\n",
       "      <th>5</th>\n",
       "      <td>1011-As-83</td>\n",
       "      <td>25.8</td>\n",
       "      <td>500.0</td>\n",
       "      <td>19.379845</td>\n",
       "      <td>265.466</td>\n",
       "      <td>1</td>\n",
       "      <td>0</td>\n",
       "      <td>12.36</td>\n",
       "      <td>CC[N+](C)(CC)CC\\N=C(\\[C@]12C)C[C@@H](C1(C)C)CC2</td>\n",
       "      <td>55.0</td>\n",
       "    </tr>\n",
       "    <tr>\n",
       "      <th>6</th>\n",
       "      <td>1012-Ya-201</td>\n",
       "      <td>39.4</td>\n",
       "      <td>498.0</td>\n",
       "      <td>12.639594</td>\n",
       "      <td>279.493</td>\n",
       "      <td>1</td>\n",
       "      <td>0</td>\n",
       "      <td>12.36</td>\n",
       "      <td>CC[N+](CC)(CC)CC\\N=C(\\[C@]12C)C[C@@H](C1(C)C)CC2</td>\n",
       "      <td>56.0</td>\n",
       "    </tr>\n",
       "    <tr>\n",
       "      <th>7</th>\n",
       "      <td>1013-Ya-179</td>\n",
       "      <td>26.6</td>\n",
       "      <td>500.0</td>\n",
       "      <td>18.796992</td>\n",
       "      <td>570.997</td>\n",
       "      <td>2</td>\n",
       "      <td>0</td>\n",
       "      <td>24.72</td>\n",
       "      <td>CC1(C)[C@H](CC2)CC(\\[C@@]12C)=N/CC[N+](CC)(CC)...</td>\n",
       "      <td>57.0</td>\n",
       "    </tr>\n",
       "    <tr>\n",
       "      <th>8</th>\n",
       "      <td>1014-Ya-177</td>\n",
       "      <td>160.0</td>\n",
       "      <td>500.0</td>\n",
       "      <td>3.125000</td>\n",
       "      <td>570.997</td>\n",
       "      <td>2</td>\n",
       "      <td>0</td>\n",
       "      <td>24.72</td>\n",
       "      <td>CC1(C)[C@H](CC2)CC(\\[C@@]12C)=N\\CC[N+](CC)(CC)...</td>\n",
       "      <td>58.0</td>\n",
       "    </tr>\n",
       "    <tr>\n",
       "      <th>9</th>\n",
       "      <td>1015-As-70</td>\n",
       "      <td>500.0</td>\n",
       "      <td>500.0</td>\n",
       "      <td>1.000000</td>\n",
       "      <td>605.015</td>\n",
       "      <td>2</td>\n",
       "      <td>0</td>\n",
       "      <td>24.72</td>\n",
       "      <td>CC1(C)[C@H](CC2)CC(\\[C@@]12C)=N\\CC[N+](CC)(CC)...</td>\n",
       "      <td>59.0</td>\n",
       "    </tr>\n",
       "  </tbody>\n",
       "</table>\n",
       "</div>"
      ],
      "text/plain": [
       "         Title  IC50, mmg/ml  CC50-MDCK, mmg/ml          SI  Molecular weight  \\\n",
       "0  1007-Ya-213           2.7              500.0  185.185185           195.307   \n",
       "1  1007-Ya-213           0.7              447.0  638.571429           195.307   \n",
       "2  1008-Ya-187           9.9              144.0   14.545455           250.431   \n",
       "3  1009-As-106           8.3              500.0   60.240964           222.377   \n",
       "4  1010-Ya-208          39.4              143.0    3.629442           239.361   \n",
       "5   1011-As-83          25.8              500.0   19.379845           265.466   \n",
       "6  1012-Ya-201          39.4              498.0   12.639594           279.493   \n",
       "7  1013-Ya-179          26.6              500.0   18.796992           570.997   \n",
       "8  1014-Ya-177         160.0              500.0    3.125000           570.997   \n",
       "9   1015-As-70         500.0              500.0    1.000000           605.015   \n",
       "\n",
       "   Hydrogen bond acceptors  Hydrogen bond donors  Polar SA  \\\n",
       "0                        2                     1     32.59   \n",
       "1                        2                     1     32.59   \n",
       "2                        1                     0     15.60   \n",
       "3                        1                     0     15.60   \n",
       "4                        2                     0     29.54   \n",
       "5                        1                     0     12.36   \n",
       "6                        1                     0     12.36   \n",
       "7                        2                     0     24.72   \n",
       "8                        2                     0     24.72   \n",
       "9                        2                     0     24.72   \n",
       "\n",
       "                                              SMILES  Pictures  \n",
       "0                OCC\\N=C(\\[C@]12C)C[C@@H](C1(C)C)CC2      50.0  \n",
       "1                OCC\\N=C(\\[C@]12C)C[C@@H](C1(C)C)CC2      51.0  \n",
       "2          CCN(CC)CC\\N=C(\\[C@@]12C)C[C@H](C1(C)C)CC2      52.0  \n",
       "3            CN(C)CC\\N=C(\\[C@@]12C)C[C@H](C1(C)C)CC2      53.0  \n",
       "4       CN(C)CC(=O)O[C@H]1C[C@H](CC2)C(C)(C)[C@@]12C      54.0  \n",
       "5    CC[N+](C)(CC)CC\\N=C(\\[C@]12C)C[C@@H](C1(C)C)CC2      55.0  \n",
       "6   CC[N+](CC)(CC)CC\\N=C(\\[C@]12C)C[C@@H](C1(C)C)CC2      56.0  \n",
       "7  CC1(C)[C@H](CC2)CC(\\[C@@]12C)=N/CC[N+](CC)(CC)...      57.0  \n",
       "8  CC1(C)[C@H](CC2)CC(\\[C@@]12C)=N\\CC[N+](CC)(CC)...      58.0  \n",
       "9  CC1(C)[C@H](CC2)CC(\\[C@@]12C)=N\\CC[N+](CC)(CC)...      59.0  "
      ]
     },
     "execution_count": 3,
     "metadata": {},
     "output_type": "execute_result"
    }
   ],
   "source": [
    "df.head(10)"
   ]
  },
  {
   "cell_type": "code",
   "execution_count": 4,
   "id": "e7b1d24a",
   "metadata": {},
   "outputs": [],
   "source": [
    "df = df.rename(columns = {'IC50, mmg/ml': \"IC50\"})\n",
    "df_smiles = df[['IC50', 'SMILES']]"
   ]
  },
  {
   "cell_type": "code",
   "execution_count": 5,
   "id": "606c5250",
   "metadata": {},
   "outputs": [],
   "source": [
    "def generate_fingerprints(smiles_list):\n",
    "    fps = []\n",
    "    for smiles in smiles_list:\n",
    "        mol = Chem.MolFromSmiles(smiles)\n",
    "        fp = AllChem.GetMorganFingerprintAsBitVect(mol, 2, nBits=2048)\n",
    "        arr = np.zeros((1,), dtype=np.int8)\n",
    "        DataStructs.ConvertToNumpyArray(fp, arr)\n",
    "        fps.append(arr)\n",
    "    return np.array(fps)"
   ]
  },
  {
   "cell_type": "code",
   "execution_count": 6,
   "id": "ba3811fd",
   "metadata": {},
   "outputs": [
    {
     "name": "stderr",
     "output_type": "stream",
     "text": [
      "[21:20:43] Conflicting single bond directions around double bond at index 55.\n",
      "[21:20:43]   BondStereo set to STEREONONE and single bond directions set to NONE.\n"
     ]
    }
   ],
   "source": [
    "smiles_list = df_smiles['SMILES'].tolist()\n",
    "fps = generate_fingerprints(smiles_list)"
   ]
  },
  {
   "cell_type": "code",
   "execution_count": 7,
   "id": "c1efa474",
   "metadata": {},
   "outputs": [
    {
     "name": "stderr",
     "output_type": "stream",
     "text": [
      "/home/user/conda/envs/chem/lib/python3.9/site-packages/umap/umap_.py:1943: UserWarning: n_jobs value -1 overridden to 1 by setting random_state. Use no seed for parallelism.\n",
      "  warn(f\"n_jobs value {self.n_jobs} overridden to 1 by setting random_state. Use no seed for parallelism.\")\n"
     ]
    }
   ],
   "source": [
    "reducer = umap.UMAP(random_state=42)\n",
    "embedding = reducer.fit_transform(fps)"
   ]
  },
  {
   "cell_type": "code",
   "execution_count": 9,
   "id": "554e5385",
   "metadata": {},
   "outputs": [],
   "source": [
    "dbscan = DBSCAN(eps=0.5, min_samples=5)\n",
    "clusters = dbscan.fit_predict(embedding)"
   ]
  },
  {
   "cell_type": "code",
   "execution_count": 10,
   "id": "a8ce6d91",
   "metadata": {},
   "outputs": [],
   "source": [
    "n_clusters = len(set(clusters)) - (1 if -1 in clusters else 0)  # -1 indicates noise in DBSCAN\n",
    "n_noise = list(clusters).count(-1)"
   ]
  },
  {
   "cell_type": "code",
   "execution_count": 11,
   "id": "e4a6ee37",
   "metadata": {},
   "outputs": [
    {
     "name": "stdout",
     "output_type": "stream",
     "text": [
      "Estimated number of clusters: 43\n",
      "Estimated number of noise points: 0\n"
     ]
    }
   ],
   "source": [
    "print(f\"Estimated number of clusters: {n_clusters}\")\n",
    "print(f\"Estimated number of noise points: {n_noise}\")"
   ]
  },
  {
   "cell_type": "code",
   "execution_count": 13,
   "id": "35ef5e30",
   "metadata": {},
   "outputs": [
    {
     "data": {
      "image/png": "[encoded data removed]",
      "text/plain": [
       "<Figure size 1000x700 with 2 Axes>"
      ]
     },
     "metadata": {},
     "output_type": "display_data"
    }
   ],
   "source": [
    "plt.figure(figsize=(10, 7))\n",
    "plt.scatter(embedding[:, 0], embedding[:, 1], c=clusters, s=50, cmap='viridis')\n",
    "plt.title(\"DBSCAN clustering on UMAP-reduced molecular data\")\n",
    "plt.colorbar()\n",
    "plt.show()"
   ]
  },
  {
   "cell_type": "code",
   "execution_count": null,
   "id": "07893db2",
   "metadata": {},
   "outputs": [],
   "source": []
  }
 ],
 "metadata": {
  "kernelspec": {
   "display_name": "chem",
   "language": "python",
   "name": "chem"
  },
  "language_info": {
   "codemirror_mode": {
    "name": "ipython",
    "version": 3
   },
   "file_extension": ".py",
   "mimetype": "text/x-python",
   "name": "python",
   "nbconvert_exporter": "python",
   "pygments_lexer": "ipython3",
   "version": "3.9.18"
  }
 },
 "nbformat": 4,
 "nbformat_minor": 5
}
